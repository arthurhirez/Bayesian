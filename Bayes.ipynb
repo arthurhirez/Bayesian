{
 "cells": [
  {
   "cell_type": "code",
   "execution_count": 4,
   "id": "initial_id",
   "metadata": {
    "collapsed": false,
    "ExecuteTime": {
     "end_time": "2023-12-07T12:19:16.358586600Z",
     "start_time": "2023-12-07T12:19:16.094196400Z"
    }
   },
   "outputs": [],
   "source": [
    "import pandas as pd\n",
    "import numpy as np\n",
    "import matplotlib.pyplot as plt\n",
    "from scipy.optimize import fsolve\n",
    "import scipy.stats as stats\n",
    "# # \n",
    "import warnings\n",
    "# \n",
    "# import arviz as az\n",
    "# import pymc as pm\n",
    "# import theano.tensor as tt"
   ]
  },
  {
   "cell_type": "code",
   "execution_count": 20,
   "id": "14f4520ccc25e3b2",
   "metadata": {
    "collapsed": false,
    "ExecuteTime": {
     "end_time": "2023-12-07T12:39:40.189299100Z",
     "start_time": "2023-12-07T12:39:40.157833900Z"
    }
   },
   "outputs": [],
   "source": [
    "class A_dist():\n",
    "    def __init__(self, beta_hat = None):\n",
    "        self.beta = 1 if beta_hat == None else beta_hat\n",
    "        # self.beta_hat = 0\n",
    "        self.df = pd.DataFrame(columns = ['beta', 'beta_hat', 'sample_size', 'initial_guess'])\n",
    "        self.result = pd.DataFrame()\n",
    "    \n",
    "    def pdf(self, x):\n",
    "        if(x <= 0): return 0\n",
    "            \n",
    "        c = self.beta/x\n",
    "        if(c > 10): return 0\n",
    "        pdf = (x**-2) * np.exp(((1 - np.exp(c))/self.beta) + c)\n",
    "\n",
    "        return pdf\n",
    "\n",
    "        \n",
    "    def cdf(self, x):\n",
    "        if(x <= 0): return 0\n",
    "\n",
    "        c = self.beta/x\n",
    "        if(c > 10): return 0\n",
    "        # cdf = np.exp((1 - np.exp(c))/self.beta)\n",
    "        log_cdf = (1 - np.exp(c))/(self.beta)\n",
    "        return np.exp(log_cdf)\n",
    "    \n",
    "    def cdf_call(self, x):\n",
    "        result = np.zeros_like(x)  # Initialize an array for storing results\n",
    "        mask_positive = x > 0  # Create a mask for positive values\n",
    "\n",
    "        c = self.beta / x[mask_positive]\n",
    "        log_cdf = (1 - np.exp(c)) / self.beta\n",
    "        result[mask_positive] = np.exp(log_cdf)\n",
    "        return result\n",
    "\n",
    "        \n",
    "    def plot(self):\n",
    "        fig, axs = plt.subplots(1, 2, figsize=(15,7))\n",
    "        tolerance = 10**-2\n",
    "\n",
    "        ax = axs[0]\n",
    "\n",
    "        x = np.linspace(10**-5, 30, 1000)     \n",
    "        ax.plot(x, [self.pdf(value) for value in x])\n",
    "        ax.set_title('PDF')\n",
    "        \n",
    "        ax = axs[1]\n",
    "        lim_sup = 1\n",
    "        while((1 - self.cdf(lim_sup)) > tolerance): lim_sup+=1\n",
    "    \n",
    "        x = np.linspace(10**-5, lim_sup, 1000)     \n",
    "        ax.plot(x, [self.cdf(value) for value in x])\n",
    "        ax.set_title('CDF')\n",
    "        plt.show()\n",
    "        \n",
    "    \n",
    "    def MLE(self, x_values, **kwargs):\n",
    "        initial_guess = kwargs['initial_guess']\n",
    "        def estimator(beta):\n",
    "            sum_X = sum(x**-1 for x in x_values)\n",
    "            sum_numerator = sum(((beta/x) * np.exp(beta/x)) - np.exp(beta/x) + 1 for x in x_values)\n",
    "            return sum_X - sum_numerator / (beta**2)\n",
    "    \n",
    "        result = fsolve(func=estimator, x0=initial_guess, xtol = 1e-7, maxfev = 1000)\n",
    "\n",
    "        while result[0] < 0:\n",
    "            x_values = self.exp_sample(n = len(x_values))\n",
    "            result = fsolve(func=estimator, x0=initial_guess, xtol = 1e-7, maxfev = 1000)\n",
    "\n",
    "        return result[0]\n",
    "    \n",
    "    def LL(self, x_values, **kwargs):\n",
    "        beta_hat = kwargs['beta_hat']\n",
    "\n",
    "        sum_X =   sum(x**-1 for x in x_values)\n",
    "        sum_numerator = sum(np.exp(beta_hat/x) - 1 for x in x_values)\n",
    "        sum_ln = sum(np.log(x) for x in x_values)\n",
    "        return (beta_hat * sum_X) - (sum_numerator / beta_hat) - (2 * sum_ln)\n",
    "\n",
    "\n",
    "    def exp_sample(self, n = 10):\n",
    "        x = []\n",
    "        for i in range(n):\n",
    "            u = np.random.random()\n",
    "            value = self.beta/np.log(1 - (self.beta* np.log(u)))\n",
    "            while(value > 100):\n",
    "                u = np.random.random()\n",
    "                value = self.beta/np.log(1 - (self.beta* np.log(u)))\n",
    "            x.append(value)\n",
    "        return x\n",
    "\n",
    "    def plot_sample(self, n = 10, lim_sup = 100, **kwargs):\n",
    "        sample = self.exp_sample(n = n)\n",
    "        fig, ax = plt.subplots(1, 1, figsize=(15,7))\n",
    "        \n",
    "        plt.hist(sample, bins = int(n/2), density=True, alpha=0.5, color='blue', label='Generated Data')\n",
    "        # lim_sup = max(sample)\n",
    "\n",
    "        x = np.linspace(0, lim_sup, 1000)\n",
    "        pdf = [self.pdf(value) for value in x]\n",
    "        \n",
    "        plt.plot(x, pdf, color='red', label='Theoretical PDF')\n",
    "        \n",
    "        ax.set_xlim(0,100)\n",
    "        plt.xlabel('Random Variable')\n",
    "        plt.ylabel('Probability Density')\n",
    "        plt.title('Random Variables using Inverse Transformation')\n",
    "        plt.legend()\n",
    "        plt.grid(True)\n",
    "        \n",
    "        plt.show()\n",
    "        \n",
    "        beta_hat = self.MLE(x_values = sample, **kwargs)\n",
    "        print(f\"Valor estimado para beta:{beta_hat:.2f}\")\n",
    "        \n",
    "        return sample\n",
    "\n",
    "    def run_experiment(self, true_params : list, sample_sizes : list, n_rep : int, initial_guess : list):\n",
    "        for param in true_params:\n",
    "            self.beta = param\n",
    "            for sample_size in sample_sizes:\n",
    "                for guess in initial_guess:\n",
    "                    for rep in range(n_rep):\n",
    "                        sample = self.exp_sample(n = sample_size)\n",
    "                        beta_hat = self.MLE(x_values = sample, initial_guess = guess)\n",
    "                        self.df.loc[len(self.df)] = [param, beta_hat, sample_size, guess]\n",
    "    \n",
    "                        \n",
    "            self.result = self.df.groupby(['sample_size', 'initial_guess'])['beta_hat'].agg(['mean', 'std']).reset_index()\n",
    "\n",
    "    def plot_experiment(self, true_param, applyGap = True):\n",
    "        fig, axs = plt.subplots(1, 2, figsize = (15,7))\n",
    "        \n",
    "        ax = axs[1]\n",
    "        for i, guess in enumerate(self.result['initial_guess'].unique()):\n",
    "            data = self.result.loc[(self.result['initial_guess'] == guess) & (self.result['beta'] == true_param)]     \n",
    "            plt.errorbar(data['sample_size'] + i*(5 if applyGap else 0), data['mean'], yerr=data['std'], fmt='-o', capsize=5, label = guess)\n",
    "        \n",
    "        ax.legend()\n",
    "        ax.set_title(f\"Estimation of the Beta parameter - True value = {self.beta}\")\n",
    "        ax.set_xlabel('Sample Size')\n",
    "        ax.set_ylabel('Beta_hat')\n",
    "        \n",
    "        ax = axs[0]\n",
    "        ax = fig.add_subplot(111, projection='3d')\n",
    "        for i, guess in enumerate(self.result['initial_guess'].unique()):\n",
    "            data = self.result.loc[(self.result['initial_guess'] == guess) & (self.result['beta'] == true_param)]\n",
    "            ax.plot(data['sample_size'], [guess] * len(data), data['mean'], label=f'Initial Guess {guess}', marker='o')\n",
    "    \n",
    "        ax.set_xlabel('Sample Size')\n",
    "        ax.set_ylabel('Initial Guess')\n",
    "        ax.set_zlabel('Beta_hat')\n",
    "        ax.legend()\n",
    "    \n",
    "        # ax.set_title(f\"Estimation of the Beta parameter - True value = {self.beta}\")\n",
    "        ax.set_title(\"TEM QUE TIRAR A CAIXA AO REDOR DO PLOT!\")\n",
    "        plt.tight_layout()\n",
    "        plt.show()"
   ]
  },
  {
   "cell_type": "markdown",
   "source": [
    "# Simulação"
   ],
   "metadata": {
    "collapsed": false
   },
   "id": "fe35681b8030e937"
  },
  {
   "cell_type": "code",
   "execution_count": 6,
   "id": "780acf2e4749b2a9",
   "metadata": {
    "collapsed": false,
    "ExecuteTime": {
     "end_time": "2023-12-07T12:32:47.498182200Z",
     "start_time": "2023-12-07T12:19:16.128130800Z"
    }
   },
   "outputs": [
    {
     "name": "stderr",
     "output_type": "stream",
     "text": [
      "C:\\ProgramData\\anaconda3\\Lib\\site-packages\\scipy\\optimize\\_minpack_py.py:177: RuntimeWarning: The iteration is not making good progress, as measured by the \n",
      "  improvement from the last ten iterations.\n",
      "  warnings.warn(msg, RuntimeWarning)\n",
      "C:\\ProgramData\\anaconda3\\Lib\\site-packages\\scipy\\optimize\\_minpack_py.py:177: RuntimeWarning: The iteration is not making good progress, as measured by the \n",
      "  improvement from the last ten iterations.\n",
      "  warnings.warn(msg, RuntimeWarning)\n"
     ]
    }
   ],
   "source": [
    "rep = 1000\n",
    "initial_guess = [0.50, 0.75, 1, 2, 5]\n",
    "\n",
    "a = A_dist()\n",
    "a.run_experiment(true_params = [0.125, 0.60, 1], sample_sizes = [20, 50, 100,  400], initial_guess=initial_guess, n_rep = rep)"
   ]
  },
  {
   "cell_type": "code",
   "execution_count": 10,
   "outputs": [
    {
     "data": {
      "text/plain": "        beta  beta_hat  sample_size  initial_guess\n0      0.125  0.498168         20.0            0.5\n1      0.125  0.192065         20.0            0.5\n2      0.125  0.577071         20.0            0.5\n3      0.125  0.379211         20.0            0.5\n4      0.125  0.072842         20.0            0.5\n...      ...       ...          ...            ...\n59995  1.000  0.889355        400.0            5.0\n59996  1.000  1.032176        400.0            5.0\n59997  1.000  1.040564        400.0            5.0\n59998  1.000  1.069459        400.0            5.0\n59999  1.000  1.089879        400.0            5.0\n\n[60000 rows x 4 columns]",
      "text/html": "<div>\n<style scoped>\n    .dataframe tbody tr th:only-of-type {\n        vertical-align: middle;\n    }\n\n    .dataframe tbody tr th {\n        vertical-align: top;\n    }\n\n    .dataframe thead th {\n        text-align: right;\n    }\n</style>\n<table border=\"1\" class=\"dataframe\">\n  <thead>\n    <tr style=\"text-align: right;\">\n      <th></th>\n      <th>beta</th>\n      <th>beta_hat</th>\n      <th>sample_size</th>\n      <th>initial_guess</th>\n    </tr>\n  </thead>\n  <tbody>\n    <tr>\n      <th>0</th>\n      <td>0.125</td>\n      <td>0.498168</td>\n      <td>20.0</td>\n      <td>0.5</td>\n    </tr>\n    <tr>\n      <th>1</th>\n      <td>0.125</td>\n      <td>0.192065</td>\n      <td>20.0</td>\n      <td>0.5</td>\n    </tr>\n    <tr>\n      <th>2</th>\n      <td>0.125</td>\n      <td>0.577071</td>\n      <td>20.0</td>\n      <td>0.5</td>\n    </tr>\n    <tr>\n      <th>3</th>\n      <td>0.125</td>\n      <td>0.379211</td>\n      <td>20.0</td>\n      <td>0.5</td>\n    </tr>\n    <tr>\n      <th>4</th>\n      <td>0.125</td>\n      <td>0.072842</td>\n      <td>20.0</td>\n      <td>0.5</td>\n    </tr>\n    <tr>\n      <th>...</th>\n      <td>...</td>\n      <td>...</td>\n      <td>...</td>\n      <td>...</td>\n    </tr>\n    <tr>\n      <th>59995</th>\n      <td>1.000</td>\n      <td>0.889355</td>\n      <td>400.0</td>\n      <td>5.0</td>\n    </tr>\n    <tr>\n      <th>59996</th>\n      <td>1.000</td>\n      <td>1.032176</td>\n      <td>400.0</td>\n      <td>5.0</td>\n    </tr>\n    <tr>\n      <th>59997</th>\n      <td>1.000</td>\n      <td>1.040564</td>\n      <td>400.0</td>\n      <td>5.0</td>\n    </tr>\n    <tr>\n      <th>59998</th>\n      <td>1.000</td>\n      <td>1.069459</td>\n      <td>400.0</td>\n      <td>5.0</td>\n    </tr>\n    <tr>\n      <th>59999</th>\n      <td>1.000</td>\n      <td>1.089879</td>\n      <td>400.0</td>\n      <td>5.0</td>\n    </tr>\n  </tbody>\n</table>\n<p>60000 rows × 4 columns</p>\n</div>"
     },
     "execution_count": 10,
     "metadata": {},
     "output_type": "execute_result"
    }
   ],
   "source": [
    "a.df"
   ],
   "metadata": {
    "collapsed": false,
    "ExecuteTime": {
     "end_time": "2023-12-07T12:34:38.201784200Z",
     "start_time": "2023-12-07T12:34:38.154691600Z"
    }
   },
   "id": "a4062e795370265"
  },
  {
   "cell_type": "code",
   "execution_count": 12,
   "outputs": [
    {
     "data": {
      "text/plain": "    sample_size   beta      mean       std       var       mse      bias\n0          20.0  0.125  0.281641  0.240518  0.057849  0.082374  0.156641\n1          20.0  0.600  0.721813  0.315449  0.099508  0.114327  0.121813\n2          20.0  1.000  1.134351  0.366593  0.134390  0.152414  0.134351\n3          50.0  0.125  0.182552  0.125260  0.015690  0.018999  0.057552\n4          50.0  0.600  0.640417  0.176382  0.031111  0.032738  0.040417\n5          50.0  1.000  1.045508  0.206936  0.042823  0.044885  0.045508\n6         100.0  0.125  0.150665  0.085874  0.007374  0.008032  0.025665\n7         100.0  0.600  0.621466  0.118149  0.013959  0.014417  0.021466\n8         100.0  1.000  1.024622  0.142050  0.020178  0.020780  0.024622\n9         400.0  0.125  0.130342  0.041488  0.001721  0.001749  0.005342\n10        400.0  0.600  0.605499  0.057977  0.003361  0.003391  0.005499\n11        400.0  1.000  1.005746  0.067482  0.004554  0.004586  0.005746",
      "text/html": "<div>\n<style scoped>\n    .dataframe tbody tr th:only-of-type {\n        vertical-align: middle;\n    }\n\n    .dataframe tbody tr th {\n        vertical-align: top;\n    }\n\n    .dataframe thead th {\n        text-align: right;\n    }\n</style>\n<table border=\"1\" class=\"dataframe\">\n  <thead>\n    <tr style=\"text-align: right;\">\n      <th></th>\n      <th>sample_size</th>\n      <th>beta</th>\n      <th>mean</th>\n      <th>std</th>\n      <th>var</th>\n      <th>mse</th>\n      <th>bias</th>\n    </tr>\n  </thead>\n  <tbody>\n    <tr>\n      <th>0</th>\n      <td>20.0</td>\n      <td>0.125</td>\n      <td>0.281641</td>\n      <td>0.240518</td>\n      <td>0.057849</td>\n      <td>0.082374</td>\n      <td>0.156641</td>\n    </tr>\n    <tr>\n      <th>1</th>\n      <td>20.0</td>\n      <td>0.600</td>\n      <td>0.721813</td>\n      <td>0.315449</td>\n      <td>0.099508</td>\n      <td>0.114327</td>\n      <td>0.121813</td>\n    </tr>\n    <tr>\n      <th>2</th>\n      <td>20.0</td>\n      <td>1.000</td>\n      <td>1.134351</td>\n      <td>0.366593</td>\n      <td>0.134390</td>\n      <td>0.152414</td>\n      <td>0.134351</td>\n    </tr>\n    <tr>\n      <th>3</th>\n      <td>50.0</td>\n      <td>0.125</td>\n      <td>0.182552</td>\n      <td>0.125260</td>\n      <td>0.015690</td>\n      <td>0.018999</td>\n      <td>0.057552</td>\n    </tr>\n    <tr>\n      <th>4</th>\n      <td>50.0</td>\n      <td>0.600</td>\n      <td>0.640417</td>\n      <td>0.176382</td>\n      <td>0.031111</td>\n      <td>0.032738</td>\n      <td>0.040417</td>\n    </tr>\n    <tr>\n      <th>5</th>\n      <td>50.0</td>\n      <td>1.000</td>\n      <td>1.045508</td>\n      <td>0.206936</td>\n      <td>0.042823</td>\n      <td>0.044885</td>\n      <td>0.045508</td>\n    </tr>\n    <tr>\n      <th>6</th>\n      <td>100.0</td>\n      <td>0.125</td>\n      <td>0.150665</td>\n      <td>0.085874</td>\n      <td>0.007374</td>\n      <td>0.008032</td>\n      <td>0.025665</td>\n    </tr>\n    <tr>\n      <th>7</th>\n      <td>100.0</td>\n      <td>0.600</td>\n      <td>0.621466</td>\n      <td>0.118149</td>\n      <td>0.013959</td>\n      <td>0.014417</td>\n      <td>0.021466</td>\n    </tr>\n    <tr>\n      <th>8</th>\n      <td>100.0</td>\n      <td>1.000</td>\n      <td>1.024622</td>\n      <td>0.142050</td>\n      <td>0.020178</td>\n      <td>0.020780</td>\n      <td>0.024622</td>\n    </tr>\n    <tr>\n      <th>9</th>\n      <td>400.0</td>\n      <td>0.125</td>\n      <td>0.130342</td>\n      <td>0.041488</td>\n      <td>0.001721</td>\n      <td>0.001749</td>\n      <td>0.005342</td>\n    </tr>\n    <tr>\n      <th>10</th>\n      <td>400.0</td>\n      <td>0.600</td>\n      <td>0.605499</td>\n      <td>0.057977</td>\n      <td>0.003361</td>\n      <td>0.003391</td>\n      <td>0.005499</td>\n    </tr>\n    <tr>\n      <th>11</th>\n      <td>400.0</td>\n      <td>1.000</td>\n      <td>1.005746</td>\n      <td>0.067482</td>\n      <td>0.004554</td>\n      <td>0.004586</td>\n      <td>0.005746</td>\n    </tr>\n  </tbody>\n</table>\n</div>"
     },
     "execution_count": 12,
     "metadata": {},
     "output_type": "execute_result"
    }
   ],
   "source": [
    "df_teste = a.df.copy()\n",
    "df_teste['mse'] = (df_teste['beta'] - df_teste['beta_hat'])**2\n",
    "\n",
    "mse_sum = df_teste.groupby(['initial_guess', 'sample_size', 'beta' ])['mse'].sum()\n",
    "mse_sum = mse_sum.drop(columns = 'initial_guess').groupby(['sample_size', 'beta']).sum() / (rep * len(initial_guess))\n",
    "\n",
    "grouped = df_teste.groupby(['sample_size', 'beta'])['beta_hat'].agg(['mean', 'std', 'var']).reset_index()\n",
    "\n",
    "result = pd.merge(grouped, mse_sum, on=['sample_size', 'beta'])\n",
    "result['bias'] = abs(result['beta'] - result['mean'])\n",
    "result.head(15)"
   ],
   "metadata": {
    "collapsed": false,
    "ExecuteTime": {
     "end_time": "2023-12-07T12:35:59.126195200Z",
     "start_time": "2023-12-07T12:35:59.079049100Z"
    }
   },
   "id": "a9e1671e1999be14"
  },
  {
   "cell_type": "code",
   "execution_count": 13,
   "outputs": [
    {
     "data": {
      "text/plain": "<Figure size 640x480 with 1 Axes>",
      "image/png": "[encoded data removed]"
     },
     "metadata": {},
     "output_type": "display_data"
    }
   ],
   "source": [
    "amostra = 20\n",
    "beta_real = .125\n",
    "\n",
    "df_hist = df_teste.loc[(df_teste['beta'] == beta_real) & (df_teste['sample_size'] == amostra)]\n",
    "df_hist['beta_hat'].plot(kind='hist', bins=10, edgecolor='black')\n",
    "plt.xlabel('Values')\n",
    "plt.ylabel('Frequency')\n",
    "plt.title('Histogram')\n",
    "plt.show()"
   ],
   "metadata": {
    "collapsed": false,
    "ExecuteTime": {
     "end_time": "2023-12-07T12:36:03.782935300Z",
     "start_time": "2023-12-07T12:36:03.640794100Z"
    }
   },
   "id": "c3430f98d3663047"
  },
  {
   "cell_type": "code",
   "execution_count": 14,
   "outputs": [
    {
     "data": {
      "text/plain": "[-0.1897652066304984, 0.7530479999768827]"
     },
     "execution_count": 14,
     "metadata": {},
     "output_type": "execute_result"
    }
   ],
   "source": [
    "z = stats.norm.ppf(0.975)\n",
    "result_interval = result.loc[(result['beta'] == beta_real) & (result['sample_size'] == amostra)]\n",
    "media = result_interval['mean'].iloc[0]\n",
    "desvpad = result_interval['std'].iloc[0]\n",
    "\n",
    "intervalo_conf = [media - z*desvpad, media + z*desvpad]\n",
    "intervalo_conf"
   ],
   "metadata": {
    "collapsed": false,
    "ExecuteTime": {
     "end_time": "2023-12-07T12:36:08.808021800Z",
     "start_time": "2023-12-07T12:36:08.776344900Z"
    }
   },
   "id": "6ac7e043f7b75c8a"
  },
  {
   "cell_type": "code",
   "execution_count": 15,
   "outputs": [
    {
     "data": {
      "text/plain": "0.9508"
     },
     "execution_count": 15,
     "metadata": {},
     "output_type": "execute_result"
    }
   ],
   "source": [
    "cobertura = df_hist['beta_hat'].between(intervalo_conf[0], intervalo_conf[1]).sum() / len(df_hist['beta_hat'])\n",
    "cobertura"
   ],
   "metadata": {
    "collapsed": false,
    "ExecuteTime": {
     "end_time": "2023-12-07T12:36:12.529266200Z",
     "start_time": "2023-12-07T12:36:12.513237400Z"
    }
   },
   "id": "e2046e68dd373712"
  },
  {
   "cell_type": "code",
   "execution_count": 16,
   "id": "537ecce9b2a4c4f9",
   "metadata": {
    "collapsed": false,
    "ExecuteTime": {
     "end_time": "2023-12-07T12:36:18.390759900Z",
     "start_time": "2023-12-07T12:36:15.358693300Z"
    }
   },
   "outputs": [
    {
     "data": {
      "text/plain": "<Figure size 1500x700 with 1 Axes>",
      "image/png": "[encoded data removed]"
     },
     "metadata": {},
     "output_type": "display_data"
    },
    {
     "name": "stdout",
     "output_type": "stream",
     "text": [
      "Valor estimado para beta:1.00\n"
     ]
    },
    {
     "data": {
      "text/plain": "(1000, 89.52572733198595)"
     },
     "execution_count": 16,
     "metadata": {},
     "output_type": "execute_result"
    }
   ],
   "source": [
    "x = a.plot_sample(n=1000, lim_sup=100, initial_guess = 100)\n",
    "len(x), max(x)"
   ]
  },
  {
   "cell_type": "markdown",
   "source": [
    "# Amostra real"
   ],
   "metadata": {
    "collapsed": false
   },
   "id": "f12b544b8c0fead1"
  },
  {
   "cell_type": "code",
   "execution_count": 18,
   "outputs": [
    {
     "data": {
      "text/plain": "MLE    125.662000\nLL     107.950308\nAIC    217.900616\nBIC    219.334603\ndtype: float64"
     },
     "execution_count": 18,
     "metadata": {},
     "output_type": "execute_result"
    }
   ],
   "source": [
    "sample_real = [18.83, 20.8, 21.657, 23.03, 23.23, 24.05, 24.321, 25.5, 25.52, 25.8, 26.69, 26.77, 26.78, 27.05, 27.67, 29.9, 31.11, 33.2, 33.73, 33.76, 33.89, 34.76, 35.75, 35.91, 36.98, 37.08, 37.09, 39.58, 44.045, 45.29, 45.381]\n",
    "\n",
    "df_result = pd.DataFrame(columns = ['initial_guess', 'MLE', 'LL', 'AIC', 'BIC'])\n",
    "\n",
    "for i in range(1, 1000, 100):\n",
    "    results_mle = []\n",
    "    results_ll = []\n",
    "    for j in range(5):\n",
    "        results_mle.append(a.MLE(sample_real, initial_guess = i))\n",
    "        b_hat = sum(results_mle) / len(results_mle)\n",
    "        results_ll.append(a.LL(sample_real, beta_hat = b_hat))  \n",
    "    \n",
    "    mle = sum(results_mle) / len(results_mle)\n",
    "    ll = sum(results_ll) / len(results_ll)\n",
    "    df_result.loc[len(df_result)] = [i, mle, - ll,\n",
    "                                     2 - 2*ll,\n",
    "                                     np.log(len(sample_real)) - 2*ll] # como já convergiu para EMV ll é LL maximizada\n",
    "\n",
    "df_result.iloc[:, 1:].mean()"
   ],
   "metadata": {
    "collapsed": false,
    "ExecuteTime": {
     "end_time": "2023-12-07T12:36:56.953590500Z",
     "start_time": "2023-12-07T12:36:56.613726100Z"
    }
   },
   "id": "691cbc77fecf39a9"
  },
  {
   "cell_type": "code",
   "execution_count": 21,
   "outputs": [
    {
     "name": "stdout",
     "output_type": "stream",
     "text": [
      "Estimador Máxima Vero:\t125.66\n",
      "KS-Test:\n",
      "Estatítica:\t\t\t\t0.1616\n",
      "P-valor:\t\t\t\t0.3543\n"
     ]
    }
   ],
   "source": [
    "EMV = df_result['MLE'].mean()\n",
    "A_sample= A_dist(EMV)\n",
    "\n",
    "ks_test = stats.kstest(sample_real, A_sample.cdf_call)\n",
    "print(f\"Estimador Máxima Vero:\\t{EMV:.2f}\\nKS-Test:\\nEstatítica:\\t\\t\\t\\t{ks_test.statistic:.4f}\\nP-valor:\\t\\t\\t\\t{ks_test.pvalue:.4f}\")"
   ],
   "metadata": {
    "collapsed": false,
    "ExecuteTime": {
     "end_time": "2023-12-07T12:39:47.029240700Z",
     "start_time": "2023-12-07T12:39:46.997373500Z"
    }
   },
   "id": "38cff453993d1586"
  },
  {
   "cell_type": "code",
   "execution_count": null,
   "outputs": [],
   "source": [],
   "metadata": {
    "collapsed": false,
    "ExecuteTime": {
     "start_time": "2023-12-07T12:32:50.790649700Z"
    }
   },
   "id": "df2c129ce89d6689"
  },
  {
   "cell_type": "code",
   "execution_count": null,
   "outputs": [],
   "source": [],
   "metadata": {
    "collapsed": false,
    "ExecuteTime": {
     "start_time": "2023-12-07T12:32:50.792222100Z"
    }
   },
   "id": "5ea460cd8485e53e"
  }
 ],
 "metadata": {
  "kernelspec": {
   "display_name": "Python 3",
   "language": "python",
   "name": "python3"
  },
  "language_info": {
   "codemirror_mode": {
    "name": "ipython",
    "version": 3
   },
   "file_extension": ".py",
   "mimetype": "text/x-python",
   "name": "python",
   "nbconvert_exporter": "python",
   "pygments_lexer": "ipython3",
   "version": "3.9.18"
  }
 },
 "nbformat": 4,
 "nbformat_minor": 5
}
